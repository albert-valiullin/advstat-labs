{
 "cells": [
  {
   "cell_type": "code",
   "execution_count": 1,
   "metadata": {
    "collapsed": true
   },
   "outputs": [],
   "source": [
    "import pandas as pd\n",
    "import numpy as np\n",
    "import scipy.stats as st\n",
    "from sklearn.linear_model import LinearRegression"
   ]
  },
  {
   "cell_type": "markdown",
   "metadata": {},
   "source": [
    "## Assignment 1"
   ]
  },
  {
   "cell_type": "code",
   "execution_count": 2,
   "metadata": {},
   "outputs": [
    {
     "data": {
      "text/html": [
       "<div>\n",
       "<style>\n",
       "    .dataframe thead tr:only-child th {\n",
       "        text-align: right;\n",
       "    }\n",
       "\n",
       "    .dataframe thead th {\n",
       "        text-align: left;\n",
       "    }\n",
       "\n",
       "    .dataframe tbody tr th {\n",
       "        vertical-align: top;\n",
       "    }\n",
       "</style>\n",
       "<table border=\"1\" class=\"dataframe\">\n",
       "  <thead>\n",
       "    <tr style=\"text-align: right;\">\n",
       "      <th></th>\n",
       "      <th>id</th>\n",
       "      <th>p1</th>\n",
       "      <th>p2</th>\n",
       "      <th>p3</th>\n",
       "      <th>p4</th>\n",
       "      <th>p5</th>\n",
       "      <th>p6</th>\n",
       "      <th>p7</th>\n",
       "      <th>p8</th>\n",
       "      <th>p9</th>\n",
       "      <th>...</th>\n",
       "      <th>p24</th>\n",
       "      <th>p25</th>\n",
       "      <th>p26</th>\n",
       "      <th>p27</th>\n",
       "      <th>p28</th>\n",
       "      <th>y1</th>\n",
       "      <th>y2</th>\n",
       "      <th>y3</th>\n",
       "      <th>y4</th>\n",
       "      <th>y5</th>\n",
       "    </tr>\n",
       "  </thead>\n",
       "  <tbody>\n",
       "    <tr>\n",
       "      <th>0</th>\n",
       "      <td>11</td>\n",
       "      <td>6.48148</td>\n",
       "      <td>3.0</td>\n",
       "      <td>5.0</td>\n",
       "      <td>7.75000</td>\n",
       "      <td>0.0</td>\n",
       "      <td>7.16667</td>\n",
       "      <td>8.16667</td>\n",
       "      <td>9.66667</td>\n",
       "      <td>6.16667</td>\n",
       "      <td>...</td>\n",
       "      <td>1.66667</td>\n",
       "      <td>3.16667</td>\n",
       "      <td>0.0</td>\n",
       "      <td>0.00000</td>\n",
       "      <td>0.0</td>\n",
       "      <td>1.0</td>\n",
       "      <td>5.00</td>\n",
       "      <td>7.44</td>\n",
       "      <td>1.18</td>\n",
       "      <td>4.38</td>\n",
       "    </tr>\n",
       "    <tr>\n",
       "      <th>1</th>\n",
       "      <td>12</td>\n",
       "      <td>5.74074</td>\n",
       "      <td>4.0</td>\n",
       "      <td>8.0</td>\n",
       "      <td>7.33333</td>\n",
       "      <td>8.0</td>\n",
       "      <td>8.83333</td>\n",
       "      <td>9.75000</td>\n",
       "      <td>9.66667</td>\n",
       "      <td>9.00000</td>\n",
       "      <td>...</td>\n",
       "      <td>2.50000</td>\n",
       "      <td>5.50000</td>\n",
       "      <td>5.0</td>\n",
       "      <td>8.66667</td>\n",
       "      <td>8.0</td>\n",
       "      <td>4.5</td>\n",
       "      <td>4.25</td>\n",
       "      <td>8.93</td>\n",
       "      <td>2.00</td>\n",
       "      <td>6.03</td>\n",
       "    </tr>\n",
       "    <tr>\n",
       "      <th>2</th>\n",
       "      <td>25</td>\n",
       "      <td>7.59259</td>\n",
       "      <td>7.0</td>\n",
       "      <td>8.0</td>\n",
       "      <td>7.66667</td>\n",
       "      <td>8.0</td>\n",
       "      <td>9.66667</td>\n",
       "      <td>9.50000</td>\n",
       "      <td>6.16667</td>\n",
       "      <td>9.66667</td>\n",
       "      <td>...</td>\n",
       "      <td>3.50000</td>\n",
       "      <td>3.50000</td>\n",
       "      <td>9.0</td>\n",
       "      <td>6.50000</td>\n",
       "      <td>7.0</td>\n",
       "      <td>7.5</td>\n",
       "      <td>11.00</td>\n",
       "      <td>8.97</td>\n",
       "      <td>2.00</td>\n",
       "      <td>9.12</td>\n",
       "    </tr>\n",
       "    <tr>\n",
       "      <th>3</th>\n",
       "      <td>31</td>\n",
       "      <td>5.96297</td>\n",
       "      <td>4.0</td>\n",
       "      <td>8.0</td>\n",
       "      <td>9.33333</td>\n",
       "      <td>10.0</td>\n",
       "      <td>9.33333</td>\n",
       "      <td>7.00000</td>\n",
       "      <td>8.50000</td>\n",
       "      <td>9.66667</td>\n",
       "      <td>...</td>\n",
       "      <td>0.00000</td>\n",
       "      <td>0.00000</td>\n",
       "      <td>0.0</td>\n",
       "      <td>0.00000</td>\n",
       "      <td>0.0</td>\n",
       "      <td>4.0</td>\n",
       "      <td>6.25</td>\n",
       "      <td>8.93</td>\n",
       "      <td>1.82</td>\n",
       "      <td>6.41</td>\n",
       "    </tr>\n",
       "    <tr>\n",
       "      <th>4</th>\n",
       "      <td>48</td>\n",
       "      <td>5.44444</td>\n",
       "      <td>1.0</td>\n",
       "      <td>3.5</td>\n",
       "      <td>6.41667</td>\n",
       "      <td>9.0</td>\n",
       "      <td>8.50000</td>\n",
       "      <td>7.08333</td>\n",
       "      <td>6.33333</td>\n",
       "      <td>9.00000</td>\n",
       "      <td>...</td>\n",
       "      <td>0.00000</td>\n",
       "      <td>0.00000</td>\n",
       "      <td>0.0</td>\n",
       "      <td>0.00000</td>\n",
       "      <td>0.0</td>\n",
       "      <td>0.0</td>\n",
       "      <td>3.00</td>\n",
       "      <td>8.08</td>\n",
       "      <td>1.36</td>\n",
       "      <td>3.67</td>\n",
       "    </tr>\n",
       "  </tbody>\n",
       "</table>\n",
       "<p>5 rows × 34 columns</p>\n",
       "</div>"
      ],
      "text/plain": [
       "   id       p1   p2   p3       p4    p5       p6       p7       p8       p9  \\\n",
       "0  11  6.48148  3.0  5.0  7.75000   0.0  7.16667  8.16667  9.66667  6.16667   \n",
       "1  12  5.74074  4.0  8.0  7.33333   8.0  8.83333  9.75000  9.66667  9.00000   \n",
       "2  25  7.59259  7.0  8.0  7.66667   8.0  9.66667  9.50000  6.16667  9.66667   \n",
       "3  31  5.96297  4.0  8.0  9.33333  10.0  9.33333  7.00000  8.50000  9.66667   \n",
       "4  48  5.44444  1.0  3.5  6.41667   9.0  8.50000  7.08333  6.33333  9.00000   \n",
       "\n",
       "   ...       p24      p25  p26      p27  p28   y1     y2    y3    y4    y5  \n",
       "0  ...   1.66667  3.16667  0.0  0.00000  0.0  1.0   5.00  7.44  1.18  4.38  \n",
       "1  ...   2.50000  5.50000  5.0  8.66667  8.0  4.5   4.25  8.93  2.00  6.03  \n",
       "2  ...   3.50000  3.50000  9.0  6.50000  7.0  7.5  11.00  8.97  2.00  9.12  \n",
       "3  ...   0.00000  0.00000  0.0  0.00000  0.0  4.0   6.25  8.93  1.82  6.41  \n",
       "4  ...   0.00000  0.00000  0.0  0.00000  0.0  0.0   3.00  8.08  1.36  3.67  \n",
       "\n",
       "[5 rows x 34 columns]"
      ]
     },
     "execution_count": 2,
     "metadata": {},
     "output_type": "execute_result"
    }
   ],
   "source": [
    "data = pd.read_csv('ds-boot-2.csv', sep='\\t')\n",
    "data.head()"
   ]
  },
  {
   "cell_type": "code",
   "execution_count": 3,
   "metadata": {},
   "outputs": [
    {
     "name": "stdout",
     "output_type": "stream",
     "text": [
      "(4.0291375, 0.45575328951599969, array([ 3.1996875,  4.9753125]))\n",
      "(4.0267499999999998, 0.56372841619633407, array([ 3.,  6.]))\n"
     ]
    }
   ],
   "source": [
    "def bootstrap(X, B=1000, s=np.mean):\n",
    "    gen = np.random.choice(X, size=(B, len(X)))\n",
    "    estimations = s(gen, axis=1)\n",
    "    est = estimations.mean()\n",
    "    error = (((estimations - est) ** 2).sum() / (B - 1)) ** 0.5\n",
    "    conf_int = np.percentile(estimations, [2.5, 97.5])\n",
    "    return est, error, conf_int\n",
    "\n",
    "print(bootstrap(data['y1'], s=np.mean))\n",
    "print(bootstrap(data['y1'], s=np.median))"
   ]
  },
  {
   "cell_type": "code",
   "execution_count": 4,
   "metadata": {},
   "outputs": [
    {
     "name": "stdout",
     "output_type": "stream",
     "text": [
      "y1 mean: (4.0204500000000003, 0.4561460750042049, array([ 3.1621875,  4.9128125]))\n",
      "y1 meadian: (4.0385, 0.60890353383234153, array([ 3.,  6.])) \n",
      "\n",
      "y2 mean: (5.5239937500000007, 0.52537059256582908, array([ 4.46234375,  6.525     ]))\n",
      "y2 meadian: (6.1628749999999997, 0.68860750044177177, array([ 4.625   ,  7.253125])) \n",
      "\n",
      "y3 mean: (7.3038834999999995, 0.47957199757033731, array([ 6.23870625,  8.197325  ]))\n",
      "y3 meadian: (8.3066250000000004, 0.2717363152028085, array([ 7.995,  8.92 ])) \n",
      "\n",
      "y4 mean: (1.5223057499999999, 0.11304906864436724, array([ 1.28595625,  1.73200625]))\n",
      "y4 meadian: (1.85995, 0.13452600025550729, array([ 1.64,  2.  ])) \n",
      "\n",
      "y5 mean: (5.65305825, 0.43672495446824744, array([ 4.76916875,  6.4617875 ]))\n",
      "y5 meadian: (6.1874849999999997, 0.4381629109264174, array([ 5.215,  7.29 ])) \n",
      "\n"
     ]
    }
   ],
   "source": [
    "targets = ['y1', 'y2', 'y3', 'y4', 'y5']\n",
    "for label in targets:\n",
    "    # output - estimation, error, confidence interval\n",
    "    print(label, 'mean:', bootstrap(data[label], s=np.mean))\n",
    "    print(label, 'meadian:', bootstrap(data[label], s=np.median), '\\n')"
   ]
  },
  {
   "cell_type": "code",
   "execution_count": 5,
   "metadata": {},
   "outputs": [
    {
     "name": "stdout",
     "output_type": "stream",
     "text": [
      "y1 [ 0.19590832  0.29677494 -0.18401943  0.02210887  0.13189801  0.28986106]\n",
      "y2 [ 0.12744323  0.18071353  0.03383592  0.10825791 -0.05377676  0.57520423]\n",
      "y3 [ 0.15867643  0.01838332  0.12772208  0.29122447  0.17922699  0.23654851]\n",
      "y4 [-0.00486422  0.00423981  0.11801823  0.02819031  0.06902863  0.00098964]\n",
      "y5 [ 0.152759    0.16444265  0.01372641  0.1348942   0.10091446  0.34552193]\n"
     ]
    }
   ],
   "source": [
    "# Linear Reagression of an initial sample\n",
    "features = ['p1', 'p2', 'p3', 'p4', 'p5', 'p6']\n",
    "for label in targets:\n",
    "    model = LinearRegression()\n",
    "    model.fit(data[features], data[label])\n",
    "    print(label, model.coef_)"
   ]
  },
  {
   "cell_type": "code",
   "execution_count": 6,
   "metadata": {},
   "outputs": [
    {
     "name": "stdout",
     "output_type": "stream",
     "text": [
      "y1 :\n",
      " coef [ 0.21922531  0.28665271 -0.08582151  0.0810462   0.10063789  0.16180395] inpt -0.45080474191 \n",
      " from [-0.16536268  0.02124626 -0.57381864 -0.37890435 -0.50900729 -0.66937077]      -1.6197040224 \n",
      " to   [ 0.59629656  0.56229514  0.50489452  0.67472518  0.4707161   0.61246827]      0.211694686159 \n",
      "\n",
      "y2 :\n",
      " coef [ 0.11284956  0.17488914  0.1248958   0.1490906  -0.05976515  0.47342355] inpt -0.585463199655 \n",
      " from [-0.33891087 -0.18677319 -0.50235238 -0.36226752 -0.47633918 -0.40802901]      -1.77241878357 \n",
      " to   [ 0.59561327  0.53644112  0.86804024  0.61322108  0.30141558  0.88809588]      0.0475448017877 \n",
      "\n",
      "y3 :\n",
      " coef [ 0.14696534  0.0260445   0.10536695  0.29969157  0.19143091  0.24755006] inpt 0.585754971701 \n",
      " from [-0.02072188 -0.1153179  -0.14235178  0.04595298  0.03115481  0.08216379]      0.133735435902 \n",
      " to   [ 0.34981796  0.1542861   0.3336502   0.62344491  0.44034366  0.48881201]      1.63768346525 \n",
      "\n",
      "y4 :\n",
      " coef [-0.00787757  0.00351706  0.11335333  0.03347912  0.06790927  0.00554894] inpt 0.157330160233 \n",
      " from [-0.07915593 -0.05087123  0.02380448 -0.06811503  0.0055415  -0.06723194]      -0.000281109819818 \n",
      " to   [ 0.06626261  0.04233603  0.21136829  0.16377178  0.16588529  0.10208748]      0.467900065312 \n",
      "\n",
      "y5 :\n",
      " coef [ 0.15318577  0.16337949  0.06255243  0.1789898   0.0867558   0.27229984] inpt -0.10263274026 \n",
      " from [-0.07714655 -0.01515324 -0.22580222 -0.066245   -0.18850333 -0.22018377]      -0.574341730757 \n",
      " to   [ 0.4023403   0.33524887  0.42275008  0.52265666  0.31264707  0.52290336]      0.28658190284 \n",
      "\n"
     ]
    }
   ],
   "source": [
    "def coeffs_bootstrap(X, Y, B=1000, model_class=LinearRegression):\n",
    "    ''' returns estimations of coefficients (with intercept) and 95% confidence intervals'''\n",
    "    n = X.shape[0]\n",
    "    coeffs = []\n",
    "    for b in range(B):\n",
    "        model = model_class()\n",
    "        idx = np.random.randint(n, size=n)\n",
    "        model.fit(X.as_matrix()[idx, :], Y.as_matrix()[idx])\n",
    "        coeffs.append(np.append(model.coef_, model.intercept_))\n",
    "    coeffs = np.array(coeffs)\n",
    "    conf_int = np.percentile(coeffs, [2.5, 97.5], axis=0)\n",
    "    return coeffs.mean(axis=0), conf_int\n",
    "\n",
    "features = ['p1', 'p2', 'p3', 'p4', 'p5', 'p6']\n",
    "# features = ['p{}'.format(num) for num in range(1, 29)]\n",
    "for label in targets:\n",
    "    coeffs, intervals = coeffs_bootstrap(data[features], data[label])\n",
    "    print(label, ':\\n',\n",
    "          'coef', coeffs[:-1], 'inpt', coeffs[-1], '\\n',\n",
    "          'from', intervals[0][:-1], '    ', intervals[0][-1], '\\n',\n",
    "          'to  ', intervals[1][:-1], '    ', intervals[1][-1], '\\n')"
   ]
  },
  {
   "cell_type": "markdown",
   "metadata": {},
   "source": [
    "## Assignment 2"
   ]
  },
  {
   "cell_type": "code",
   "execution_count": 7,
   "metadata": {},
   "outputs": [
    {
     "data": {
      "text/html": [
       "<div>\n",
       "<style>\n",
       "    .dataframe thead tr:only-child th {\n",
       "        text-align: right;\n",
       "    }\n",
       "\n",
       "    .dataframe thead th {\n",
       "        text-align: left;\n",
       "    }\n",
       "\n",
       "    .dataframe tbody tr th {\n",
       "        vertical-align: top;\n",
       "    }\n",
       "</style>\n",
       "<table border=\"1\" class=\"dataframe\">\n",
       "  <thead>\n",
       "    <tr style=\"text-align: right;\">\n",
       "      <th></th>\n",
       "      <th>day</th>\n",
       "      <th>bugsPerDay</th>\n",
       "      <th>cummBugs</th>\n",
       "    </tr>\n",
       "  </thead>\n",
       "  <tbody>\n",
       "    <tr>\n",
       "      <th>0</th>\n",
       "      <td>1</td>\n",
       "      <td>0</td>\n",
       "      <td>0</td>\n",
       "    </tr>\n",
       "    <tr>\n",
       "      <th>1</th>\n",
       "      <td>2</td>\n",
       "      <td>1</td>\n",
       "      <td>1</td>\n",
       "    </tr>\n",
       "    <tr>\n",
       "      <th>2</th>\n",
       "      <td>3</td>\n",
       "      <td>0</td>\n",
       "      <td>1</td>\n",
       "    </tr>\n",
       "    <tr>\n",
       "      <th>3</th>\n",
       "      <td>4</td>\n",
       "      <td>2</td>\n",
       "      <td>3</td>\n",
       "    </tr>\n",
       "    <tr>\n",
       "      <th>4</th>\n",
       "      <td>5</td>\n",
       "      <td>1</td>\n",
       "      <td>4</td>\n",
       "    </tr>\n",
       "  </tbody>\n",
       "</table>\n",
       "</div>"
      ],
      "text/plain": [
       "   day  bugsPerDay  cummBugs\n",
       "0    1           0         0\n",
       "1    2           1         1\n",
       "2    3           0         1\n",
       "3    4           2         3\n",
       "4    5           1         4"
      ]
     },
     "execution_count": 7,
     "metadata": {},
     "output_type": "execute_result"
    }
   ],
   "source": [
    "from scipy.optimize import minimize\n",
    "import matplotlib.pyplot as plt\n",
    "%matplotlib inline\n",
    "\n",
    "data = pd.read_csv('ds-boot-1.csv', sep='\\t')\n",
    "data.head()"
   ]
  },
  {
   "cell_type": "code",
   "execution_count": 8,
   "metadata": {},
   "outputs": [
    {
     "data": {
      "text/html": [
       "<div>\n",
       "<style>\n",
       "    .dataframe thead tr:only-child th {\n",
       "        text-align: right;\n",
       "    }\n",
       "\n",
       "    .dataframe thead th {\n",
       "        text-align: left;\n",
       "    }\n",
       "\n",
       "    .dataframe tbody tr th {\n",
       "        vertical-align: top;\n",
       "    }\n",
       "</style>\n",
       "<table border=\"1\" class=\"dataframe\">\n",
       "  <thead>\n",
       "    <tr style=\"text-align: right;\">\n",
       "      <th></th>\n",
       "      <th>day</th>\n",
       "      <th>bugsPerDay</th>\n",
       "      <th>cummBugs</th>\n",
       "    </tr>\n",
       "  </thead>\n",
       "  <tbody>\n",
       "    <tr>\n",
       "      <th>count</th>\n",
       "      <td>1327.000000</td>\n",
       "      <td>1327.000000</td>\n",
       "      <td>1327.000000</td>\n",
       "    </tr>\n",
       "    <tr>\n",
       "      <th>mean</th>\n",
       "      <td>664.000000</td>\n",
       "      <td>4.212509</td>\n",
       "      <td>2894.581763</td>\n",
       "    </tr>\n",
       "    <tr>\n",
       "      <th>std</th>\n",
       "      <td>383.216214</td>\n",
       "      <td>8.803797</td>\n",
       "      <td>2013.662007</td>\n",
       "    </tr>\n",
       "    <tr>\n",
       "      <th>min</th>\n",
       "      <td>1.000000</td>\n",
       "      <td>0.000000</td>\n",
       "      <td>0.000000</td>\n",
       "    </tr>\n",
       "    <tr>\n",
       "      <th>25%</th>\n",
       "      <td>332.500000</td>\n",
       "      <td>0.000000</td>\n",
       "      <td>765.000000</td>\n",
       "    </tr>\n",
       "    <tr>\n",
       "      <th>50%</th>\n",
       "      <td>664.000000</td>\n",
       "      <td>2.000000</td>\n",
       "      <td>3186.000000</td>\n",
       "    </tr>\n",
       "    <tr>\n",
       "      <th>75%</th>\n",
       "      <td>995.500000</td>\n",
       "      <td>6.000000</td>\n",
       "      <td>4994.500000</td>\n",
       "    </tr>\n",
       "    <tr>\n",
       "      <th>max</th>\n",
       "      <td>1327.000000</td>\n",
       "      <td>224.000000</td>\n",
       "      <td>5590.000000</td>\n",
       "    </tr>\n",
       "  </tbody>\n",
       "</table>\n",
       "</div>"
      ],
      "text/plain": [
       "               day   bugsPerDay     cummBugs\n",
       "count  1327.000000  1327.000000  1327.000000\n",
       "mean    664.000000     4.212509  2894.581763\n",
       "std     383.216214     8.803797  2013.662007\n",
       "min       1.000000     0.000000     0.000000\n",
       "25%     332.500000     0.000000   765.000000\n",
       "50%     664.000000     2.000000  3186.000000\n",
       "75%     995.500000     6.000000  4994.500000\n",
       "max    1327.000000   224.000000  5590.000000"
      ]
     },
     "execution_count": 8,
     "metadata": {},
     "output_type": "execute_result"
    }
   ],
   "source": [
    "data.describe()"
   ]
  },
  {
   "cell_type": "code",
   "execution_count": 9,
   "metadata": {},
   "outputs": [
    {
     "data": {
      "image/png": "[encoded data removed]",
      "text/plain": [
       "<matplotlib.figure.Figure at 0x7f92d402ef98>"
      ]
     },
     "metadata": {},
     "output_type": "display_data"
    }
   ],
   "source": [
    "plt.plot(data['cummBugs'])\n",
    "plt.show()"
   ]
  },
  {
   "cell_type": "code",
   "execution_count": 10,
   "metadata": {},
   "outputs": [
    {
     "data": {
      "image/png": "[encoded data removed]",
      "text/plain": [
       "<matplotlib.figure.Figure at 0x7f92d400b400>"
      ]
     },
     "metadata": {},
     "output_type": "display_data"
    }
   ],
   "source": [
    "a = 5950\n",
    "b = 0.0035\n",
    "xs = np.arange(1327)\n",
    "xs = a * (1 - (1 + b * xs) * np.exp(-b * xs))\n",
    "plt.plot(xs)\n",
    "plt.plot(data['cummBugs'])\n",
    "plt.show()"
   ]
  },
  {
   "cell_type": "code",
   "execution_count": 11,
   "metadata": {},
   "outputs": [
    {
     "data": {
      "image/png": "[encoded data removed]",
      "text/plain": [
       "<matplotlib.figure.Figure at 0x7f92d3ecb828>"
      ]
     },
     "metadata": {},
     "output_type": "display_data"
    }
   ],
   "source": [
    "a = 8000\n",
    "alpha = 1\n",
    "beta = 0.00001\n",
    "r = 1\n",
    "t = np.arange(1327)\n",
    "xs = a * (1 - np.exp(-r * alpha * (1 - np.exp(-beta * t ** 2 / 2))))\n",
    "plt.plot(xs)\n",
    "plt.plot(data['cummBugs'])\n",
    "plt.show()"
   ]
  },
  {
   "cell_type": "code",
   "execution_count": 12,
   "metadata": {},
   "outputs": [
    {
     "name": "stdout",
     "output_type": "stream",
     "text": [
      "G-O S-shaped [  8.52256486e+03   1.86485536e-03] 106308245.876 True\n",
      "Yamada Raleigh [  9.97583886e+08   1.83125349e-01   3.39283581e-05   3.05325897e-06] 53907262.5028 True\n",
      "Gompertz [  6.03152061e+03   8.08154706e-04   9.96446783e-01] 28351423.6786 True\n"
     ]
    },
    {
     "data": {
      "image/png": "[encoded data removed]",
      "text/plain": [
       "<matplotlib.figure.Figure at 0x7f92d3f09f28>"
      ]
     },
     "metadata": {},
     "output_type": "display_data"
    }
   ],
   "source": [
    "def go_s_shaped(t, a, b):\n",
    "    '''G-O S-shaped model'''\n",
    "    return a * (1 - (1 + b * t) * np.exp(-b * t))\n",
    "\n",
    "def yamada_raleigh(t, a, r, alpha, beta):\n",
    "    '''Yamada Raleigh model'''\n",
    "    return a * (1 - np.exp(-r * alpha * (1 - np.exp(-beta * t ** 2 / 2))))\n",
    "\n",
    "def gompertz(t, a, b, c):\n",
    "    '''Gompertz model'''\n",
    "    return a * (b ** (c ** t))\n",
    "\n",
    "def fun1(params):\n",
    "    '''objective function for G-O S-shaped model - sum of squares'''\n",
    "    t = np.arange(len(data['cummBugs']))\n",
    "    return ((data['cummBugs'] - go_s_shaped(t, params[0], params[1])) ** 2).sum() \n",
    "\n",
    "def fun2(params):\n",
    "    '''objective function for Yamada Raleigh model - sum of squares'''\n",
    "    t = np.arange(len(data['cummBugs']))\n",
    "    return ((data['cummBugs'] - yamada_raleigh(t, params[0], params[1], params[2], params[3])) ** 2).sum() \n",
    "\n",
    "def fun3(params):\n",
    "    '''objective function for Gompertz model - sum of squares'''\n",
    "    t = np.arange(len(data['cummBugs']))\n",
    "    return ((data['cummBugs'] - gompertz(t, params[0], params[1], params[2])) ** 2).sum() \n",
    "\n",
    "# get optimal parameters for G-O S-shaped model\n",
    "go_res = minimize(fun1, [5950, 0.0035], method='Nelder-Mead')\n",
    "print('G-O S-shaped', go_res.x, go_res.fun, go_res.success)\n",
    "\n",
    "# get optimal parameters for Yamada Raleigh model\n",
    "yam_res = minimize(fun2, [1e+09, 1.77295917e-01, 3.37923671e-05, 3.05325708e-06], method='Nelder-Mead')\n",
    "print('Yamada Raleigh', yam_res.x, yam_res.fun, yam_res.success)\n",
    "\n",
    "# get optimal parameters for Gompertz model\n",
    "gpz_res = minimize(fun3, [6000, 0.001, 0.995], method='Nelder-Mead')\n",
    "print('Gompertz', gpz_res.x, gpz_res.fun, gpz_res.success)\n",
    "\n",
    "x = np.arange(len(data['cummBugs']))\n",
    "xs1 = go_s_shaped(x, go_res.x[0], go_res.x[1])\n",
    "xs2 = yamada_raleigh(x, yam_res.x[0], yam_res.x[1], yam_res.x[2], yam_res.x[3])\n",
    "xs3 = gompertz(x, gpz_res.x[0], gpz_res.x[1], gpz_res.x[2])\n",
    "\n",
    "plt.plot(data['cummBugs'])\n",
    "plt.plot(xs1)\n",
    "plt.plot(xs2)\n",
    "plt.plot(xs3)\n",
    "plt.show()"
   ]
  },
  {
   "cell_type": "markdown",
   "metadata": {},
   "source": [
    "### Conclusion\n",
    "Gompertz model shows best match (least sum of squares) with optimal parameters:\n",
    "\n",
    "$$a = 6.03152064e+03,$$ $$b = 8.08154454e-04,$$ $$c = 9.96446783e-01$$"
   ]
  },
  {
   "cell_type": "code",
   "execution_count": 13,
   "metadata": {},
   "outputs": [
    {
     "name": "stdout",
     "output_type": "stream",
     "text": [
      "params [  7.52407919e+03   4.50883920e-02   9.98258299e-01] \n",
      "from   [  6.26066583e+03   3.04048998e-02   9.97855428e-01] \n",
      "to     [  9.63603464e+03   6.24138584e-02   9.98661574e-01]\n"
     ]
    }
   ],
   "source": [
    "a, b, c = (6.03152061e+03, 8.08154706e-04, 9.96446783e-01)\n",
    "\n",
    "B = 1000\n",
    "X = data['bugsPerDay']\n",
    "gen = np.random.choice(X, size=(B, len(X)))\n",
    "\n",
    "parameters = []\n",
    "\n",
    "for sample in gen:\n",
    "    cummBugs = np.cumsum(sample)\n",
    "    \n",
    "    def obj_func(params):\n",
    "        t = np.arange(len(cummBugs))\n",
    "        return ((cummBugs - gompertz(t, params[0], params[1], params[2])) ** 2).sum()\n",
    "    \n",
    "    parameters.append(minimize(obj_func, [a, b, c], method='Nelder-Mead').x)\n",
    "\n",
    "parameters = np.array(parameters)\n",
    "estimation = parameters.mean(axis=0)\n",
    "conf_int = np.percentile(parameters, [2.5, 97.5], axis=0)\n",
    "print('params', estimation, '\\nfrom  ', conf_int[0], '\\nto    ', conf_int[1])\n",
    "    "
   ]
  },
  {
   "cell_type": "code",
   "execution_count": null,
   "metadata": {
    "collapsed": true
   },
   "outputs": [],
   "source": []
  },
  {
   "cell_type": "code",
   "execution_count": null,
   "metadata": {
    "collapsed": true
   },
   "outputs": [],
   "source": []
  }
 ],
 "metadata": {
  "kernelspec": {
   "display_name": "Python 3",
   "language": "python",
   "name": "python3"
  },
  "language_info": {
   "codemirror_mode": {
    "name": "ipython",
    "version": 3
   },
   "file_extension": ".py",
   "mimetype": "text/x-python",
   "name": "python",
   "nbconvert_exporter": "python",
   "pygments_lexer": "ipython3",
   "version": "3.6.2"
  }
 },
 "nbformat": 4,
 "nbformat_minor": 2
}
